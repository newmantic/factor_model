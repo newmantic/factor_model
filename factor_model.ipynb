{
  "nbformat": 4,
  "nbformat_minor": 0,
  "metadata": {
    "colab": {
      "provenance": [],
      "authorship_tag": "ABX9TyPrZT9OwsknNFZu3PTuAq5j",
      "include_colab_link": true
    },
    "kernelspec": {
      "name": "python3",
      "display_name": "Python 3"
    },
    "language_info": {
      "name": "python"
    }
  },
  "cells": [
    {
      "cell_type": "markdown",
      "metadata": {
        "id": "view-in-github",
        "colab_type": "text"
      },
      "source": [
        "<a href=\"https://colab.research.google.com/github/newmantic/factor_model/blob/main/factor_model.ipynb\" target=\"_parent\"><img src=\"https://colab.research.google.com/assets/colab-badge.svg\" alt=\"Open In Colab\"/></a>"
      ]
    },
    {
      "cell_type": "code",
      "execution_count": 1,
      "metadata": {
        "id": "R2lQgISUvNz2"
      },
      "outputs": [],
      "source": [
        "import numpy as np\n",
        "from numpy.linalg import inv\n",
        "\n",
        "def calculate_bond_return(alpha: float, betas: np.ndarray, factor_returns: np.ndarray) -> float:\n",
        "    \"\"\"\n",
        "    Calculate the bond return using a factor model.\n",
        "\n",
        "    Args:\n",
        "    alpha (float): Intercept (alpha) of the model.\n",
        "    betas (np.ndarray): Array of factor sensitivities (betas).\n",
        "    factor_returns (np.ndarray): Array of factor returns.\n",
        "\n",
        "    Returns:\n",
        "    float: Predicted bond return.\n",
        "    \"\"\"\n",
        "    return alpha + np.dot(betas, factor_returns)\n",
        "\n",
        "def estimate_factor_betas(bond_returns: np.ndarray, factor_returns: np.ndarray) -> np.ndarray:\n",
        "    \"\"\"\n",
        "    Estimate the factor betas using regression analysis.\n",
        "\n",
        "    Args:\n",
        "    bond_returns (np.ndarray): Array of historical bond returns.\n",
        "    factor_returns (np.ndarray): Matrix of historical factor returns (each column is a factor).\n",
        "\n",
        "    Returns:\n",
        "    np.ndarray: Estimated betas for each factor.\n",
        "    \"\"\"\n",
        "    X = factor_returns\n",
        "    y = bond_returns\n",
        "    betas = inv(X.T @ X) @ (X.T @ y)\n",
        "    return betas\n",
        "\n",
        "def calculate_expected_return(alpha: float, betas: np.ndarray, expected_factor_returns: np.ndarray) -> float:\n",
        "    \"\"\"\n",
        "    Calculate the expected return using the factor model.\n",
        "\n",
        "    Args:\n",
        "    alpha (float): Intercept (alpha) of the model.\n",
        "    betas (np.ndarray): Array of factor sensitivities (betas).\n",
        "    expected_factor_returns (np.ndarray): Array of expected factor returns.\n",
        "\n",
        "    Returns:\n",
        "    float: Expected bond return.\n",
        "    \"\"\"\n",
        "    return calculate_bond_return(alpha, betas, expected_factor_returns)\n",
        "\n",
        "def calculate_residual_return(actual_return: float, predicted_return: float) -> float:\n",
        "    \"\"\"\n",
        "    Calculate the residual return (actual - predicted).\n",
        "\n",
        "    Args:\n",
        "    actual_return (float): Actual bond return.\n",
        "    predicted_return (float): Predicted bond return using the factor model.\n",
        "\n",
        "    Returns:\n",
        "    float: Residual return.\n",
        "    \"\"\"\n",
        "    return actual_return - predicted_return"
      ]
    },
    {
      "cell_type": "code",
      "source": [
        "# Test Data\n",
        "alpha = 0.002  # Intercept of the model\n",
        "betas = np.array([0.5, 0.3, 0.2])  # Sensitivities to the factors\n",
        "factor_returns = np.array([0.01, 0.02, 0.015])  # Returns of the factors\n",
        "\n",
        "# Historical data for regression (estimate betas)\n",
        "historical_bond_returns = np.array([0.015, 0.02, 0.017, 0.022, 0.018])\n",
        "historical_factor_returns = np.array([[0.01, 0.02, 0.015],\n",
        "                                      [0.012, 0.018, 0.017],\n",
        "                                      [0.013, 0.022, 0.014],\n",
        "                                      [0.011, 0.019, 0.016],\n",
        "                                      [0.009, 0.021, 0.015]])\n",
        "\n",
        "# Test case 1: Calculate Bond Return\n",
        "predicted_return = calculate_bond_return(alpha, betas, factor_returns)\n",
        "print(f\"Predicted Bond Return: {predicted_return:.4f}\")  # Expected: Calculated return based on inputs\n",
        "\n",
        "# Test case 2: Estimate Factor Betas\n",
        "estimated_betas = estimate_factor_betas(historical_bond_returns, historical_factor_returns)\n",
        "print(f\"Estimated Betas: {estimated_betas}\")  # Expected: Array of betas\n",
        "\n",
        "# Test case 3: Calculate Expected Return\n",
        "expected_factor_returns = np.array([0.012, 0.022, 0.016])  # Expected returns of the factors\n",
        "expected_return = calculate_expected_return(alpha, estimated_betas, expected_factor_returns)\n",
        "print(f\"Expected Bond Return: {expected_return:.4f}\")  # Expected: Calculated expected return\n",
        "\n",
        "# Test case 4: Calculate Residual Return\n",
        "actual_return = 0.021  # Example actual bond return\n",
        "residual_return = calculate_residual_return(actual_return, predicted_return)\n",
        "print(f\"Residual Return: {residual_return:.4f}\")  # Expected: Difference between actual and predicted return"
      ],
      "metadata": {
        "colab": {
          "base_uri": "https://localhost:8080/"
        },
        "id": "T-evEuTcvnNy",
        "outputId": "5d9d4ea7-0247-4031-83ad-be170bdc0f8d"
      },
      "execution_count": 2,
      "outputs": [
        {
          "output_type": "stream",
          "name": "stdout",
          "text": [
            "Predicted Bond Return: 0.0160\n",
            "Estimated Betas: [ 0.26906426 -0.18551219  1.2439066 ]\n",
            "Expected Bond Return: 0.0211\n",
            "Residual Return: 0.0050\n"
          ]
        }
      ]
    }
  ]
}